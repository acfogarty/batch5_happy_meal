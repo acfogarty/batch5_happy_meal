{
 "cells": [
  {
   "cell_type": "markdown",
   "metadata": {},
   "source": [
    "# Get product's foodgroup"
   ]
  },
  {
   "cell_type": "markdown",
   "metadata": {},
   "source": [
    "**Objective** : <br>\n",
    "Predict the foodgroup (12 groups) of a product of Phenix, online version (from the package openfoodfacts) <br>\n",
    "\n",
    "**Outputs** : <br>\n",
    "- `data/foodgroup_statut.csv` (11.7Mo, assigns a foodgroup and a statut for each food of Phenix, built from complete models `clf_nutrients_rf_groupeAlim_2` and `clf_names_nb`)\n"
   ]
  },
  {
   "cell_type": "code",
   "execution_count": 2,
   "metadata": {
    "collapsed": false
   },
   "outputs": [],
   "source": [
    "import numpy as np\n",
    "import pandas as pd\n",
    "import time\n",
    "from nltk.corpus import stopwords\n",
    "from nltk.tokenize import word_tokenize\n",
    "from nltk.tokenize import RegexpTokenizer\n",
    "#import unidecode\n",
    "#from collections import Counter\n",
    "from sklearn import model_selection, preprocessing, linear_model, naive_bayes, metrics, svm\n",
    "from sklearn.ensemble import RandomForestClassifier, VotingClassifier, GradientBoostingClassifier\n",
    "from sklearn.feature_extraction.text import TfidfVectorizer, CountVectorizer\n",
    "from sklearn.metrics import accuracy_score, confusion_matrix\n",
    "from sklearn.pipeline import Pipeline\n",
    "import pickle\n",
    "import itertools\n",
    "\n",
    "import openfoodfacts\n",
    "\n",
    "%matplotlib inline\n",
    "import matplotlib.pyplot as plt\n",
    "from matplotlib.legend_handler import HandlerLine2D\n",
    "\n",
    "pd.options.display.max_rows = 100"
   ]
  },
  {
   "cell_type": "markdown",
   "metadata": {},
   "source": [
    "## Load models"
   ]
  },
  {
   "cell_type": "code",
   "execution_count": 3,
   "metadata": {
    "collapsed": false
   },
   "outputs": [
    {
     "name": "stdout",
     "output_type": "stream",
     "text": [
      "RandomForestClassifier(bootstrap=True, class_weight=None, criterion='entropy',\n",
      "            max_depth=20, max_features=3, max_leaf_nodes=None,\n",
      "            min_impurity_decrease=0.0, min_impurity_split=None,\n",
      "            min_samples_leaf=4, min_samples_split=4,\n",
      "            min_weight_fraction_leaf=0.0, n_estimators=15, n_jobs=-1,\n",
      "            oob_score=False, random_state=50, verbose=0, warm_start=False)\n"
     ]
    }
   ],
   "source": [
    "# Model to get the foodgroup of a product which is in the Open Food Facts database\n",
    "clf_nutrients_rf = pickle.load(open('../../data/clf_nutrients_rf_groupeAlim_2_light.sav', 'rb'))\n",
    "print(clf_nutrients_rf)"
   ]
  },
  {
   "cell_type": "code",
   "execution_count": 4,
   "metadata": {
    "collapsed": false
   },
   "outputs": [
    {
     "name": "stdout",
     "output_type": "stream",
     "text": [
      "Pipeline(memory=None,\n",
      "     steps=[('count_vectorizer', CountVectorizer(analyzer='word', binary=False, decode_error='strict',\n",
      "        dtype=<class 'numpy.int64'>, encoding='utf-8', input='content',\n",
      "        lowercase=True, max_df=1.0, max_features=None, min_df=2,\n",
      "        ngram_range=(1, 2), preprocessor=None,\n",
      "        stop_words...e, vocabulary=None)), ('naive_bayes', MultinomialNB(alpha=0.001, class_prior=None, fit_prior=True))])\n"
     ]
    }
   ],
   "source": [
    "# Model to get the foodgroup of a product which is not in the Open Food Facts database\n",
    "clf_names_nb = pickle.load(open('../../data/clf_names_nb_light.sav', 'rb'))\n",
    "print(clf_names_nb)"
   ]
  },
  {
   "cell_type": "code",
   "execution_count": 5,
   "metadata": {
    "collapsed": false
   },
   "outputs": [],
   "source": [
    "# Mapping groups\n",
    "mapping_groups = pd.read_csv(\"../../data/mapping_off_ideal.csv\", sep = ';', encoding = 'UTF-8')"
   ]
  },
  {
   "cell_type": "code",
   "execution_count": 6,
   "metadata": {
    "collapsed": false
   },
   "outputs": [],
   "source": [
    "# Transform into a dictionnary\n",
    "dict_mapping = mapping_groups.set_index('pnns_groups_2')['groupeAlim_2'].to_dict()"
   ]
  },
  {
   "cell_type": "markdown",
   "metadata": {},
   "source": [
    "## Function to get foodgroup"
   ]
  },
  {
   "cell_type": "code",
   "execution_count": 7,
   "metadata": {
    "collapsed": false
   },
   "outputs": [],
   "source": [
    "def get_foodGroup(EAN, Produit_Nom, convert_groups = dict_mapping,\n",
    "                  model_classifier = clf_nutrients_rf, \n",
    "                  model_matching = clf_names_nb) : \n",
    "    '''\n",
    "    -- Input --\n",
    "    EAN : EAN code, string\n",
    "    Produit_Nom : name of the product, string\n",
    "    convert_groups : dictionnary which enables to create a family of food from OpenFoodFacts' groups\n",
    "    model_classifier : model which predicts the foodgroups from nutrients\n",
    "    model_matching : model which predicts the foodgroups from names\n",
    "    \n",
    "    -- Output --\n",
    "    food_group : the group of the product, string\n",
    "    statut : how the foodgroup has been obtained\n",
    "        1 - the product is in OFF and belongs to a well defined foodgroup \n",
    "        2 - the product is in OFF and its foodgroup is predicted from nutrients\n",
    "        3 - the product is not in OFF and its foodgroup is predicted from its name\n",
    "    '''\n",
    "    \n",
    "    try : #incase of missing EAN\n",
    "        product_off = openfoodfacts.products.get_product(str(EAN))  #gets the product from Open Food Facts\n",
    "    except :\n",
    "        pass\n",
    "\n",
    "    try : #manages to get info on pnns_groups_2\n",
    "        \n",
    "        product_off_groups2 = product_off['product']['pnns_groups_2']\n",
    "    \n",
    "        if product_off_groups2 in convert_groups.keys() : #if the product of OFF belongs to a well defined group\n",
    "            foodgroup = convert_groups[product_off_groups2]\n",
    "            statut = 1\n",
    "            \n",
    "            return [foodgroup, statut]\n",
    "    except : pass    \n",
    "        \n",
    "    try : #manages to get info on nutriments\n",
    "\n",
    "        #looks for nutrients\n",
    "        df_nutrients = pd.DataFrame([product_off['product']['nutriments']],\n",
    "                               dtype = 'float64')[['salt_100g', 'fat_100g', 'sugars_100g', 'proteins_100g', 'carbohydrates_100g', 'saturated-fat_100g']]\n",
    "\n",
    "        # We will predict if and only if the values are valid\n",
    "        df_nutrients = df_nutrients[df_nutrients['salt_100g'] <= 100]\n",
    "        df_nutrients = df_nutrients[df_nutrients['sugars_100g'] <= 100]\n",
    "        df_nutrients = df_nutrients[df_nutrients['carbohydrates_100g'] <= 100]\n",
    "        df_nutrients = df_nutrients[df_nutrients['fat_100g'] <= 100]\n",
    "        df_nutrients = df_nutrients[df_nutrients['proteins_100g'] <= 100]\n",
    "        df_nutrients = df_nutrients[df_nutrients['saturated-fat_100g'] <= 100]\n",
    "\n",
    "        n_row = df_nutrients.shape[0] #1 if values are correct, 0 if one value over 100\n",
    "\n",
    "        if n_row == 1 : #no missing values and no weird values\n",
    "\n",
    "            #then predicts the foodgroup from nutrients\n",
    "            foodgroup = model_classifier.predict(df_nutrients[['salt_100g', 'sugars_100g',\n",
    "                                                               'carbohydrates_100g', 'fat_100g',\n",
    "                                                               'proteins_100g', 'saturated-fat_100g']])[0]\n",
    "            statut = 2\n",
    "            \n",
    "            return [foodgroup, statut]\n",
    "    except : \n",
    "        pass\n",
    "    \n",
    "    try : #manages to predicts the foodgroup from the name\n",
    "        foodgroup = model_matching.predict([Produit_Nom])[0]\n",
    "        statut = 3\n",
    "        return [foodgroup, statut]\n",
    "\n",
    "    except : #arggg\n",
    "        return [None, None]"
   ]
  },
  {
   "cell_type": "code",
   "execution_count": 8,
   "metadata": {
    "collapsed": false
   },
   "outputs": [
    {
     "data": {
      "text/plain": [
       "['Produits gras sucrés salés', 1]"
      ]
     },
     "execution_count": 8,
     "metadata": {},
     "output_type": "execute_result"
    }
   ],
   "source": [
    "EAN = \"4260436322114\" #in OFF with foodgroup\n",
    "get_foodGroup(EAN, Produit_Nom = None)  #4260436322114 -> ['Produits gras sucrés salés', 1]"
   ]
  },
  {
   "cell_type": "code",
   "execution_count": 9,
   "metadata": {
    "collapsed": false
   },
   "outputs": [
    {
     "name": "stdout",
     "output_type": "stream",
     "text": [
      "10 loops, best of 3: 106 ms per loop\n"
     ]
    }
   ],
   "source": [
    "%%timeit\n",
    "get_foodGroup(\"4260436322114\", Produit_Nom = None) #100ms for statut 1"
   ]
  },
  {
   "cell_type": "code",
   "execution_count": 10,
   "metadata": {
    "collapsed": false
   },
   "outputs": [
    {
     "data": {
      "text/plain": [
       "['Produits gras sucrés salés', 2]"
      ]
     },
     "execution_count": 10,
     "metadata": {},
     "output_type": "execute_result"
    }
   ],
   "source": [
    "EAN = \"5410233710105\" #in OFF without foodgroup\n",
    "get_foodGroup(EAN, Produit_Nom = None) #5410233710105 -> ['Produits gras sucrés salés', 2]"
   ]
  },
  {
   "cell_type": "code",
   "execution_count": 11,
   "metadata": {
    "collapsed": false
   },
   "outputs": [
    {
     "name": "stdout",
     "output_type": "stream",
     "text": [
      "1 loop, best of 3: 268 ms per loop\n"
     ]
    }
   ],
   "source": [
    "%%timeit\n",
    "get_foodGroup(\"5410233710105\", Produit_Nom = None) #250ms for statut 2"
   ]
  },
  {
   "cell_type": "code",
   "execution_count": 12,
   "metadata": {
    "collapsed": false
   },
   "outputs": [
    {
     "data": {
      "text/plain": [
       "['Plats préparés', 3]"
      ]
     },
     "execution_count": 12,
     "metadata": {},
     "output_type": "execute_result"
    }
   ],
   "source": [
    "EAN = 'hgbjnklhgcvbjh6e5fgr' #is not in OFF\n",
    "Produit_Nom = \"Pizza\"\n",
    "get_foodGroup(EAN, Produit_Nom) #Produit_Nom = \"Pizza\" -> ['Plats préparés', 3]"
   ]
  },
  {
   "cell_type": "code",
   "execution_count": 13,
   "metadata": {
    "collapsed": false
   },
   "outputs": [
    {
     "name": "stdout",
     "output_type": "stream",
     "text": [
      "10 loops, best of 3: 99.1 ms per loop\n"
     ]
    }
   ],
   "source": [
    "%%timeit\n",
    "get_foodGroup('hgbjnklhgcvbjh6e5fgr', \"Pizza\") #100ms for statut 3"
   ]
  },
  {
   "cell_type": "code",
   "execution_count": 14,
   "metadata": {
    "collapsed": false
   },
   "outputs": [
    {
     "data": {
      "text/plain": [
       "[None, None]"
      ]
     },
     "execution_count": 14,
     "metadata": {},
     "output_type": "execute_result"
    }
   ],
   "source": [
    "# missing\n",
    "get_foodGroup(None, None)"
   ]
  },
  {
   "cell_type": "markdown",
   "metadata": {},
   "source": [
    "## Prediction for multiple products"
   ]
  },
  {
   "cell_type": "code",
   "execution_count": 15,
   "metadata": {
    "collapsed": false
   },
   "outputs": [
    {
     "name": "stdout",
     "output_type": "stream",
     "text": [
      "(184660, 2)\n"
     ]
    }
   ],
   "source": [
    "# Phenix database\n",
    "all_foodsCommandes_2017 = pd.read_csv(\"../../data/all_foodsCommandes_2017.csv\", sep = ';', \n",
    "                                      encoding = 'UTF-8',dtype = {'EAN': str, 'Produit_Nom' : str})\n",
    "\n",
    "# Only keeping unique products (based on the name and the EAN code)\n",
    "unique_foodsCommandes_2017 = all_foodsCommandes_2017[['EAN', 'Produit_Nom']].drop_duplicates()\n",
    "\n",
    "print(unique_foodsCommandes_2017.shape)"
   ]
  },
  {
   "cell_type": "code",
   "execution_count": 16,
   "metadata": {
    "collapsed": false
   },
   "outputs": [],
   "source": [
    "#unique_foodsCommandes_2017_sample = unique_foodsCommandes_2017[['Produit_Nom', 'EAN']]\n",
    "unique_foodsCommandes_2017_sample = unique_foodsCommandes_2017[['Produit_Nom', 'EAN']].sample(10)"
   ]
  },
  {
   "cell_type": "code",
   "execution_count": 17,
   "metadata": {
    "collapsed": false
   },
   "outputs": [
    {
     "data": {
      "text/html": [
       "<div>\n",
       "<style>\n",
       "    .dataframe thead tr:only-child th {\n",
       "        text-align: right;\n",
       "    }\n",
       "\n",
       "    .dataframe thead th {\n",
       "        text-align: left;\n",
       "    }\n",
       "\n",
       "    .dataframe tbody tr th {\n",
       "        vertical-align: top;\n",
       "    }\n",
       "</style>\n",
       "<table border=\"1\" class=\"dataframe\">\n",
       "  <thead>\n",
       "    <tr style=\"text-align: right;\">\n",
       "      <th></th>\n",
       "      <th>Produit_Nom</th>\n",
       "      <th>EAN</th>\n",
       "      <th>foodgroup</th>\n",
       "      <th>statut</th>\n",
       "    </tr>\n",
       "  </thead>\n",
       "  <tbody>\n",
       "    <tr>\n",
       "      <th>2760811</th>\n",
       "      <td>SDW LE MEGA BUN,ARIZONA,200G</td>\n",
       "      <td>3242272951056</td>\n",
       "      <td>Plats préparés</td>\n",
       "      <td>1</td>\n",
       "    </tr>\n",
       "    <tr>\n",
       "      <th>73516</th>\n",
       "      <td>MOULIN MEL.POIV.SEL DUC 30G</td>\n",
       "      <td>3166291748421</td>\n",
       "      <td>Plats préparés</td>\n",
       "      <td>2</td>\n",
       "    </tr>\n",
       "    <tr>\n",
       "      <th>311016</th>\n",
       "      <td>NOIX DE BRESIL,200G,OPTIMYS</td>\n",
       "      <td>7640149390360</td>\n",
       "      <td>Produits gras sucrés salés</td>\n",
       "      <td>3</td>\n",
       "    </tr>\n",
       "    <tr>\n",
       "      <th>1054759</th>\n",
       "      <td>SAUCE BEURRE BLC,RUSTICA,300ML</td>\n",
       "      <td>3564700445518</td>\n",
       "      <td>Matières grasses ajoutées</td>\n",
       "      <td>3</td>\n",
       "    </tr>\n",
       "    <tr>\n",
       "      <th>1357257</th>\n",
       "      <td>COUSCOUS MAROCAINE</td>\n",
       "      <td>3302741843104</td>\n",
       "      <td>Plats préparés</td>\n",
       "      <td>1</td>\n",
       "    </tr>\n",
       "    <tr>\n",
       "      <th>2118831</th>\n",
       "      <td>JBON DD SEL REDUIT X2,TRADI,80G</td>\n",
       "      <td>1056241</td>\n",
       "      <td>Viande, oeufs</td>\n",
       "      <td>3</td>\n",
       "    </tr>\n",
       "    <tr>\n",
       "      <th>1540608</th>\n",
       "      <td>ESPRESSO LUNGO LIEVE 16CAP,112G</td>\n",
       "      <td>8000070086456</td>\n",
       "      <td>Produits gras sucrés salés</td>\n",
       "      <td>3</td>\n",
       "    </tr>\n",
       "    <tr>\n",
       "      <th>1986667</th>\n",
       "      <td>PREPA MOELLX CHOCO,NESTLE,344G</td>\n",
       "      <td>7613034060679</td>\n",
       "      <td>Produits gras sucrés salés</td>\n",
       "      <td>1</td>\n",
       "    </tr>\n",
       "    <tr>\n",
       "      <th>441575</th>\n",
       "      <td>GRAND MIE DUROI 700G</td>\n",
       "      <td>3029330001829</td>\n",
       "      <td>Féculents raffinés</td>\n",
       "      <td>1</td>\n",
       "    </tr>\n",
       "    <tr>\n",
       "      <th>132289</th>\n",
       "      <td>HARICOT BEURRE E.F 4/4 460G</td>\n",
       "      <td>3017800022016</td>\n",
       "      <td>Légumes</td>\n",
       "      <td>1</td>\n",
       "    </tr>\n",
       "  </tbody>\n",
       "</table>\n",
       "</div>"
      ],
      "text/plain": [
       "                             Produit_Nom            EAN  \\\n",
       "2760811     SDW LE MEGA BUN,ARIZONA,200G  3242272951056   \n",
       "73516        MOULIN MEL.POIV.SEL DUC 30G  3166291748421   \n",
       "311016       NOIX DE BRESIL,200G,OPTIMYS  7640149390360   \n",
       "1054759   SAUCE BEURRE BLC,RUSTICA,300ML  3564700445518   \n",
       "1357257               COUSCOUS MAROCAINE  3302741843104   \n",
       "2118831  JBON DD SEL REDUIT X2,TRADI,80G        1056241   \n",
       "1540608  ESPRESSO LUNGO LIEVE 16CAP,112G  8000070086456   \n",
       "1986667   PREPA MOELLX CHOCO,NESTLE,344G  7613034060679   \n",
       "441575              GRAND MIE DUROI 700G  3029330001829   \n",
       "132289       HARICOT BEURRE E.F 4/4 460G  3017800022016   \n",
       "\n",
       "                          foodgroup  statut  \n",
       "2760811              Plats préparés       1  \n",
       "73516                Plats préparés       2  \n",
       "311016   Produits gras sucrés salés       3  \n",
       "1054759   Matières grasses ajoutées       3  \n",
       "1357257              Plats préparés       1  \n",
       "2118831               Viande, oeufs       3  \n",
       "1540608  Produits gras sucrés salés       3  \n",
       "1986667  Produits gras sucrés salés       1  \n",
       "441575           Féculents raffinés       1  \n",
       "132289                      Légumes       1  "
      ]
     },
     "execution_count": 17,
     "metadata": {},
     "output_type": "execute_result"
    }
   ],
   "source": [
    "unique_foodsCommandes_2017_sample[['foodgroup', 'statut']] = unique_foodsCommandes_2017_sample.apply(lambda row: get_foodGroup(row['EAN'], row['Produit_Nom']), axis=1)\n",
    "unique_foodsCommandes_2017_sample"
   ]
  },
  {
   "cell_type": "code",
   "execution_count": null,
   "metadata": {
    "collapsed": true
   },
   "outputs": [],
   "source": []
  },
  {
   "cell_type": "code",
   "execution_count": null,
   "metadata": {
    "collapsed": true
   },
   "outputs": [],
   "source": [
    "# Saving\n",
    "#unique_foodsCommandes_2017_sample.to_csv(\"../data/_output/foodgroup_statut.csv\", sep = ';', encoding = 'UTF-8', index = False)"
   ]
  }
 ],
 "metadata": {
  "kernelspec": {
   "display_name": "Python 3",
   "language": "python",
   "name": "python3"
  },
  "language_info": {
   "codemirror_mode": {
    "name": "ipython",
    "version": 3
   },
   "file_extension": ".py",
   "mimetype": "text/x-python",
   "name": "python",
   "nbconvert_exporter": "python",
   "pygments_lexer": "ipython3",
   "version": "3.5.2"
  }
 },
 "nbformat": 4,
 "nbformat_minor": 2
}
