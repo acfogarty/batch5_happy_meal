{
 "cells": [
  {
   "cell_type": "markdown",
   "metadata": {},
   "source": [
    "# Foodgroup for Phenix"
   ]
  },
  {
   "cell_type": "markdown",
   "metadata": {},
   "source": [
    "**Objective** : <br>\n",
    "Predict the foodgroup (12 groups) of a product of Phenix <br>\n",
    "Remark : cannot run without the file `data/all_foodsCommandes_2017.csv` (1.02Go, contains all orders of Phenix) <br>\n",
    "Remark : cannot run without the file `data/openfoodfacts_groupeAlim_2.csv` (31Mo, assigns a foodgroup to a OpenFoodFacts' product) <br>\n",
    "\n",
    "**Main results** : <br>\n",
    "- using names and naive bayes : 88.9% of accuracy (87.2% for a simpler model)\n",
    "\n",
    "**Outputs** : <br>\n",
    "- `data/clf_names_nb.sav` (90Mo, model which predicts foodgroups from names, 88.9% accuracy)\n",
    "- `data/clf_names_nb_light.sav` (16.4Mo, model which predicts foodgroups from names, 87.2% accuracy)\n"
   ]
  },
  {
   "cell_type": "raw",
   "metadata": {},
   "source": [
    "TODO : rajouter le dictionnaire de OFF ?\n",
    "TODO : optimiser le apriori ?\n",
    "TODO : lemmatiser (quid oeufs vs 'sandwich à l'oeuf' ?)"
   ]
  },
  {
   "cell_type": "code",
   "execution_count": 1,
   "metadata": {
    "collapsed": false
   },
   "outputs": [],
   "source": [
    "import numpy as np\n",
    "import pandas as pd\n",
    "import time\n",
    "from nltk.corpus import stopwords\n",
    "from nltk.tokenize import word_tokenize\n",
    "from nltk.tokenize import RegexpTokenizer\n",
    "#import unidecode\n",
    "#from collections import Counter\n",
    "from sklearn import model_selection, preprocessing, linear_model, naive_bayes, metrics, svm\n",
    "from sklearn.ensemble import RandomForestClassifier, VotingClassifier, GradientBoostingClassifier\n",
    "from sklearn.feature_extraction.text import TfidfVectorizer, CountVectorizer\n",
    "from sklearn.metrics import accuracy_score, confusion_matrix\n",
    "from sklearn.pipeline import Pipeline #to put countvectorizer and naivebayes together\n",
    "import pickle\n",
    "import itertools\n",
    "\n",
    "%matplotlib inline\n",
    "import matplotlib.pyplot as plt\n",
    "from matplotlib.legend_handler import HandlerLine2D\n",
    "\n",
    "pd.options.display.max_rows = 100"
   ]
  },
  {
   "cell_type": "markdown",
   "metadata": {},
   "source": [
    "## Opening files"
   ]
  },
  {
   "cell_type": "code",
   "execution_count": 3,
   "metadata": {
    "collapsed": false
   },
   "outputs": [],
   "source": [
    "# Phenix database\n",
    "all_foodsCommandes_2017 = pd.read_csv(\"../../data/all_foodsCommandes_2017.csv\", sep = ';', \n",
    "                                      encoding = 'UTF-8',dtype = {'EAN': str, 'Produit_Nom' : str})\n",
    "\n",
    "# Open Food Facts\n",
    "## For each product, a food group has been given\n",
    "# This file is an output from 1-Foodgroup for OpenFoodFacts.ipynb\n",
    "openfoodfacts_foodgroup = pd.read_csv(\"../../data/openfoodfacts_groupeAlim_2.csv\", sep = ';', \n",
    "                                      encoding = 'UTF-8', dtype = {'EAN': str, 'product_name' : str})"
   ]
  },
  {
   "cell_type": "code",
   "execution_count": 4,
   "metadata": {
    "collapsed": false
   },
   "outputs": [
    {
     "data": {
      "text/html": [
       "<div>\n",
       "<style>\n",
       "    .dataframe thead tr:only-child th {\n",
       "        text-align: right;\n",
       "    }\n",
       "\n",
       "    .dataframe thead th {\n",
       "        text-align: left;\n",
       "    }\n",
       "\n",
       "    .dataframe tbody tr th {\n",
       "        vertical-align: top;\n",
       "    }\n",
       "</style>\n",
       "<table border=\"1\" class=\"dataframe\">\n",
       "  <thead>\n",
       "    <tr style=\"text-align: right;\">\n",
       "      <th></th>\n",
       "      <th>product_name</th>\n",
       "      <th>EAN</th>\n",
       "      <th>foodgroup</th>\n",
       "    </tr>\n",
       "  </thead>\n",
       "  <tbody>\n",
       "    <tr>\n",
       "      <th>0</th>\n",
       "      <td>Vitória crackers</td>\n",
       "      <td>0000000000017</td>\n",
       "      <td>Produits gras sucrés salés</td>\n",
       "    </tr>\n",
       "    <tr>\n",
       "      <th>1</th>\n",
       "      <td>Sauce Sweety chili 0%</td>\n",
       "      <td>0000000000123</td>\n",
       "      <td>Matières grasses ajoutées</td>\n",
       "    </tr>\n",
       "    <tr>\n",
       "      <th>2</th>\n",
       "      <td>Salade de carottes râpées</td>\n",
       "      <td>0000000000949</td>\n",
       "      <td>Matières grasses ajoutées</td>\n",
       "    </tr>\n",
       "    <tr>\n",
       "      <th>3</th>\n",
       "      <td>Fromage blanc aux myrtilles</td>\n",
       "      <td>0000000000970</td>\n",
       "      <td>Produits laitiers (hors fromage)</td>\n",
       "    </tr>\n",
       "    <tr>\n",
       "      <th>4</th>\n",
       "      <td>Baguette parisien</td>\n",
       "      <td>0000000001137</td>\n",
       "      <td>Plats préparés</td>\n",
       "    </tr>\n",
       "  </tbody>\n",
       "</table>\n",
       "</div>"
      ],
      "text/plain": [
       "                  product_name            EAN  \\\n",
       "0             Vitória crackers  0000000000017   \n",
       "1        Sauce Sweety chili 0%  0000000000123   \n",
       "2    Salade de carottes râpées  0000000000949   \n",
       "3  Fromage blanc aux myrtilles  0000000000970   \n",
       "4            Baguette parisien  0000000001137   \n",
       "\n",
       "                          foodgroup  \n",
       "0        Produits gras sucrés salés  \n",
       "1         Matières grasses ajoutées  \n",
       "2         Matières grasses ajoutées  \n",
       "3  Produits laitiers (hors fromage)  \n",
       "4                    Plats préparés  "
      ]
     },
     "execution_count": 4,
     "metadata": {},
     "output_type": "execute_result"
    }
   ],
   "source": [
    "openfoodfacts_foodgroup.head()"
   ]
  },
  {
   "cell_type": "code",
   "execution_count": 5,
   "metadata": {
    "collapsed": false
   },
   "outputs": [
    {
     "name": "stdout",
     "output_type": "stream",
     "text": [
      "(518912, 3)\n",
      "(3188676, 31)\n"
     ]
    }
   ],
   "source": [
    "print(openfoodfacts_foodgroup.shape)\n",
    "print(all_foodsCommandes_2017.shape)"
   ]
  },
  {
   "cell_type": "code",
   "execution_count": 6,
   "metadata": {
    "collapsed": true
   },
   "outputs": [],
   "source": [
    "# Only keeping unique products (based on the name and the EAN code)\n",
    "unique_foodsCommandes_2017 = all_foodsCommandes_2017[['EAN', 'Produit_Nom']].drop_duplicates()\n",
    "# Beware : an EAN may redirect to several names"
   ]
  },
  {
   "cell_type": "code",
   "execution_count": 7,
   "metadata": {
    "collapsed": false
   },
   "outputs": [
    {
     "name": "stdout",
     "output_type": "stream",
     "text": [
      "(118713, 4)\n"
     ]
    }
   ],
   "source": [
    "# Join with EAN\n",
    "common_EAN = unique_foodsCommandes_2017.merge(openfoodfacts_foodgroup, how = 'inner')\n",
    "\n",
    "print(common_EAN.shape) #118713 x 4"
   ]
  },
  {
   "cell_type": "code",
   "execution_count": 8,
   "metadata": {
    "collapsed": false
   },
   "outputs": [
    {
     "data": {
      "text/html": [
       "<div>\n",
       "<style>\n",
       "    .dataframe thead tr:only-child th {\n",
       "        text-align: right;\n",
       "    }\n",
       "\n",
       "    .dataframe thead th {\n",
       "        text-align: left;\n",
       "    }\n",
       "\n",
       "    .dataframe tbody tr th {\n",
       "        vertical-align: top;\n",
       "    }\n",
       "</style>\n",
       "<table border=\"1\" class=\"dataframe\">\n",
       "  <thead>\n",
       "    <tr style=\"text-align: right;\">\n",
       "      <th></th>\n",
       "      <th>EAN</th>\n",
       "      <th>Produit_Nom</th>\n",
       "      <th>product_name</th>\n",
       "      <th>foodgroup</th>\n",
       "    </tr>\n",
       "  </thead>\n",
       "  <tbody>\n",
       "    <tr>\n",
       "      <th>0</th>\n",
       "      <td>3242274006556</td>\n",
       "      <td>SALADE  LIBANAISE 320G SODEBO</td>\n",
       "      <td>Salade &amp; Compagnie - Libanaise</td>\n",
       "      <td>Légumes</td>\n",
       "    </tr>\n",
       "    <tr>\n",
       "      <th>1</th>\n",
       "      <td>3242274006556</td>\n",
       "      <td>SALADE LIBANAISE 320G</td>\n",
       "      <td>Salade &amp; Compagnie - Libanaise</td>\n",
       "      <td>Légumes</td>\n",
       "    </tr>\n",
       "    <tr>\n",
       "      <th>2</th>\n",
       "      <td>3242274006556</td>\n",
       "      <td>SALADE LIBANAISE,SODEBO,320G</td>\n",
       "      <td>Salade &amp; Compagnie - Libanaise</td>\n",
       "      <td>Légumes</td>\n",
       "    </tr>\n",
       "    <tr>\n",
       "      <th>3</th>\n",
       "      <td>3242274006556</td>\n",
       "      <td>SALADE LIBANAISE,,320G</td>\n",
       "      <td>Salade &amp; Compagnie - Libanaise</td>\n",
       "      <td>Légumes</td>\n",
       "    </tr>\n",
       "    <tr>\n",
       "      <th>4</th>\n",
       "      <td>3242274006556</td>\n",
       "      <td>SALADE LIBANAISE SODEBO 320G</td>\n",
       "      <td>Salade &amp; Compagnie - Libanaise</td>\n",
       "      <td>Légumes</td>\n",
       "    </tr>\n",
       "  </tbody>\n",
       "</table>\n",
       "</div>"
      ],
      "text/plain": [
       "             EAN                    Produit_Nom  \\\n",
       "0  3242274006556  SALADE  LIBANAISE 320G SODEBO   \n",
       "1  3242274006556          SALADE LIBANAISE 320G   \n",
       "2  3242274006556   SALADE LIBANAISE,SODEBO,320G   \n",
       "3  3242274006556         SALADE LIBANAISE,,320G   \n",
       "4  3242274006556   SALADE LIBANAISE SODEBO 320G   \n",
       "\n",
       "                     product_name foodgroup  \n",
       "0  Salade & Compagnie - Libanaise   Légumes  \n",
       "1  Salade & Compagnie - Libanaise   Légumes  \n",
       "2  Salade & Compagnie - Libanaise   Légumes  \n",
       "3  Salade & Compagnie - Libanaise   Légumes  \n",
       "4  Salade & Compagnie - Libanaise   Légumes  "
      ]
     },
     "execution_count": 8,
     "metadata": {},
     "output_type": "execute_result"
    }
   ],
   "source": [
    "common_EAN.head()"
   ]
  },
  {
   "cell_type": "markdown",
   "metadata": {},
   "source": [
    "## Machine learning"
   ]
  },
  {
   "cell_type": "code",
   "execution_count": 9,
   "metadata": {
    "collapsed": false
   },
   "outputs": [
    {
     "name": "stdout",
     "output_type": "stream",
     "text": [
      "There are 12 food groups.\n"
     ]
    }
   ],
   "source": [
    "# Food groups\n",
    "list_foodgroup = np.unique(common_EAN['foodgroup'])\n",
    "print(\"There are %.0f food groups.\" %len(list_foodgroup))"
   ]
  },
  {
   "cell_type": "markdown",
   "metadata": {},
   "source": [
    "### Naive Bayes"
   ]
  },
  {
   "cell_type": "markdown",
   "metadata": {},
   "source": [
    "We have 12 food groups, called $C_i$. So, given a product name $n$, the aim is to predict the probability of belonging to a class $C_i$ : $\\mathbb{P}(C = C_i | N = n)$.\n",
    "\n",
    "Thanks to Bayes rules, we get : \n",
    "$$ \\mathbb{P}(C = C_i | N = n) = \\dfrac{\\mathbb{P}(N = n | C = C_i) \\times \\mathbb{P}(C = C_i)}{\\mathbb{P}(N = n)}$$\n",
    "\n",
    "We will consider that for all names $n$, $\\mathbb{P}(N = n) =$ constant. Consequently, we have to explicit two calculus.\n",
    "\n",
    "First of all, $\\mathbb{P}(C = C_i)$ is approximated by the proportion of products belonging to the group $C_i$.\n",
    "\n",
    "Then, we will consider that a name, $n$, is composed of words $w$ which are independant and identically distributed (strong assumption but it simplifies the calculation). Therefore, $$\\mathbb{P}(N = n | C = C_i) = \\prod_{w_k \\in n} \\mathbb{P}(W = w_k | C = C_i)$$."
   ]
  },
  {
   "cell_type": "code",
   "execution_count": 11,
   "metadata": {
    "collapsed": false
   },
   "outputs": [
    {
     "name": "stdout",
     "output_type": "stream",
     "text": [
      "Among the 184660 products of the database of Phenix, only 118713 are useful for this methodology because there are in Open Food Facts' database.\n",
      "       \tIn the training dataset, there are 89034 observations.\n",
      "\tIn the test dataset, there are 29679 observations.\n"
     ]
    }
   ],
   "source": [
    "# Train and test sets\n",
    "train_x, test_x, train_y, test_y = model_selection.train_test_split(common_EAN['Produit_Nom'], common_EAN['foodgroup'])\n",
    "\n",
    "print(\"Among the %.0f products of the database of Phenix, only %.0f are useful for this methodology because there are in Open Food Facts' database.\\n \\\n",
    "      \\tIn the training dataset, there are %.0f observations.\\n\\tIn the test dataset, there are %.0f observations.\" % \n",
    "      (unique_foodsCommandes_2017.shape[0], common_EAN.shape[0], train_x.shape[0], test_x.shape[0]))"
   ]
  },
  {
   "cell_type": "code",
   "execution_count": 12,
   "metadata": {
    "collapsed": true
   },
   "outputs": [],
   "source": [
    "?CountVectorizer"
   ]
  },
  {
   "cell_type": "code",
   "execution_count": 13,
   "metadata": {
    "collapsed": false
   },
   "outputs": [],
   "source": [
    "?naive_bayes.MultinomialNB"
   ]
  },
  {
   "cell_type": "code",
   "execution_count": 22,
   "metadata": {
    "collapsed": false
   },
   "outputs": [
    {
     "name": "stdout",
     "output_type": "stream",
     "text": [
      "Accuracy of naive bayes model : 88.87%\n"
     ]
    }
   ],
   "source": [
    "# Firstly, let's create a pipeline which will contains all hyper-parameters\n",
    "pipeline = Pipeline([\n",
    "    ('count_vectorizer', CountVectorizer(stop_words = set(stopwords.words('french')), \n",
    "                                         min_df = 1,\n",
    "                                         ngram_range = (1,3))),\n",
    "    ('naive_bayes', naive_bayes.MultinomialNB(alpha = 1e-3))\n",
    "    ])\n",
    "\n",
    "# Fit the model\n",
    "pipeline.fit(train_x, train_y)\n",
    "\n",
    "# Prediction\n",
    "predictions = pipeline.predict(test_x)\n",
    "accuracy_model = accuracy_score(y_true = test_y, y_pred = predictions)\n",
    "print('Accuracy of naive bayes model : %.2f%%' % (100 * accuracy_model))\n",
    "# 88.9% : french + min_df = 1, ngram:1-3, alpha = 1e-3"
   ]
  },
  {
   "cell_type": "code",
   "execution_count": 30,
   "metadata": {
    "collapsed": false
   },
   "outputs": [
    {
     "name": "stdout",
     "output_type": "stream",
     "text": [
      "Accuracy of simple naive bayes model : 87.19%\n"
     ]
    }
   ],
   "source": [
    "# Let's create a simpler model, which needs less memory\n",
    "pipeline_light = Pipeline([\n",
    "    ('count_vectorizer', CountVectorizer(stop_words = set(stopwords.words('french')), \n",
    "                                         min_df = 2,\n",
    "                                         ngram_range = (1,2))),\n",
    "    ('naive_bayes', naive_bayes.MultinomialNB(alpha = 1e-3))\n",
    "    ])\n",
    "\n",
    "# Fit the model\n",
    "pipeline_light.fit(train_x, train_y)\n",
    "\n",
    "# Prediction\n",
    "predictions = pipeline_light.predict(test_x)\n",
    "accuracy_model = accuracy_score(y_true = test_y, y_pred = predictions)\n",
    "print('Accuracy of simple naive bayes model : %.2f%%' % (100 * accuracy_model))\n",
    "# 87.2% : french + min_df = 2, ngram:1-2, alpha = 1e-3"
   ]
  },
  {
   "cell_type": "markdown",
   "metadata": {},
   "source": [
    "Let's optimize the hyperparameters of the naive bayes"
   ]
  },
  {
   "cell_type": "code",
   "execution_count": 15,
   "metadata": {
    "collapsed": false
   },
   "outputs": [
    {
     "name": "stdout",
     "output_type": "stream",
     "text": [
      "Estimation for alpha = 0.0\n"
     ]
    },
    {
     "name": "stderr",
     "output_type": "stream",
     "text": [
      "C:\\Users\\Mehdi\\Anaconda3\\envs\\py35\\lib\\site-packages\\sklearn\\naive_bayes.py:472: UserWarning: alpha too small will result in numeric errors, setting alpha = 1.0e-10\n",
      "  'setting alpha = %.1e' % _ALPHA_MIN)\n"
     ]
    },
    {
     "name": "stdout",
     "output_type": "stream",
     "text": [
      "Estimation for alpha = 0.0001\n",
      "Estimation for alpha = 0.001\n",
      "Estimation for alpha = 0.01\n",
      "Estimation for alpha = 0.1\n",
      "Estimation for alpha = 0.2\n",
      "Estimation for alpha = 0.3\n",
      "Estimation for alpha = 0.4\n",
      "Estimation for alpha = 0.5\n",
      "Estimation for alpha = 0.6\n",
      "Estimation for alpha = 0.7\n",
      "Estimation for alpha = 0.8\n",
      "Estimation for alpha = 0.9\n",
      "Estimation for alpha = 1.0\n",
      "     alpha  training_accuracy  validation_accuracy\n",
      "0   0.0000              99.70                88.20\n",
      "1   0.0001              99.58                88.43\n",
      "2   0.0010              99.49                88.53\n",
      "3   0.0100              99.22                88.59\n",
      "4   0.1000              98.68                88.39\n",
      "5   0.2000              98.34                88.02\n",
      "6   0.3000              98.06                87.53\n",
      "7   0.4000              97.69                86.98\n",
      "8   0.5000              97.39                86.56\n",
      "9   0.6000              96.98                86.31\n",
      "10  0.7000              96.56                85.78\n",
      "11  0.8000              96.18                85.29\n",
      "12  0.9000              95.79                84.90\n",
      "13  1.0000              95.42                84.46\n"
     ]
    },
    {
     "data": {
      "image/png": "[encoded data removed]",
      "text/plain": [
       "<Figure size 432x288 with 1 Axes>"
      ]
     },
     "metadata": {},
     "output_type": "display_data"
    }
   ],
   "source": [
    "# Optimization for alpha\n",
    "training_accuracy = []\n",
    "valid_accuracy = []\n",
    "\n",
    "# Hyperparameter's range\n",
    "list_alpha = [x for x in np.linspace(start = 0, stop = 1, num = 11)]\n",
    "list_alpha = sorted(list_alpha + [1e-4, 1e-3, 1e-2])\n",
    "\n",
    "# Training and validation sets\n",
    "training_x, valid_x, training_y, valid_y = model_selection.train_test_split(train_x, train_y, test_size = 0.2)\n",
    "\n",
    "for hyp in list_alpha : \n",
    "    \n",
    "    print(\"Estimation for alpha = %s\" % hyp)\n",
    "    \n",
    "    pipeline = Pipeline([\n",
    "    ('count_vectorizer', CountVectorizer(stop_words = set(stopwords.words('french')), \n",
    "                                         min_df = 1,\n",
    "                                         ngram_range = (1,3))),\n",
    "    ('naive_bayes', naive_bayes.MultinomialNB(alpha = hyp))\n",
    "    ])\n",
    "\n",
    "    # Learning \n",
    "    pipeline.fit(training_x, training_y)\n",
    "\n",
    "    # predict the labels on validation dataset\n",
    "    training_pred = pipeline.predict(training_x)\n",
    "    valid_pred = pipeline.predict(valid_x)\n",
    "\n",
    "    # Accuracy\n",
    "    training_acc = 100 * accuracy_score(y_true = training_y, y_pred = training_pred)\n",
    "    valid_acc = 100 * accuracy_score(y_true = valid_y, y_pred = valid_pred)\n",
    "        \n",
    "    training_accuracy.append(training_acc)\n",
    "    valid_accuracy.append(valid_acc)\n",
    "    \n",
    "results = pd.DataFrame({'alpha' : list_alpha,\n",
    "            'training_accuracy' : np.round(training_accuracy, 2),\n",
    "            'validation_accuracy' : np.round(valid_accuracy, 2)})\n",
    "print(results)\n",
    "\n",
    "# Plotting the results\n",
    "line1, = plt.plot(list_alpha, training_accuracy, 'b', label=\"Training accuracy\")\n",
    "line2, = plt.plot(list_alpha, valid_accuracy, 'r', label=\"Validation accuracy\")\n",
    "\n",
    "plt.legend(handler_map={line1: HandlerLine2D(numpoints=2)})\n",
    "\n",
    "plt.ylabel('Accuracy')\n",
    "plt.xlabel('alpha')\n",
    "plt.show()    "
   ]
  },
  {
   "cell_type": "code",
   "execution_count": 16,
   "metadata": {
    "collapsed": false
   },
   "outputs": [
    {
     "name": "stdout",
     "output_type": "stream",
     "text": [
      "Estimation for max_ngram = 1\n",
      "Estimation for max_ngram = 2\n",
      "Estimation for max_ngram = 3\n",
      "Estimation for max_ngram = 4\n",
      "Estimation for max_ngram = 5\n",
      "   max_ngram  training_accuracy  validation_accuracy\n",
      "0          1              92.26                84.74\n",
      "1          2              98.76                88.03\n",
      "2          3              99.48                88.32\n",
      "3          4              99.63                88.31\n",
      "4          5              99.65                88.31\n"
     ]
    },
    {
     "data": {
      "image/png": "[encoded data removed]",
      "text/plain": [
       "<Figure size 432x288 with 1 Axes>"
      ]
     },
     "metadata": {},
     "output_type": "display_data"
    }
   ],
   "source": [
    "# Optimization for max_ngram (ngram_range)\n",
    "training_accuracy = []\n",
    "valid_accuracy = []\n",
    "\n",
    "# Hyperparameter's range\n",
    "list_max_ngram = [1,2,3,4,5]\n",
    "\n",
    "# Training and validation sets\n",
    "training_x, valid_x, training_y, valid_y = model_selection.train_test_split(train_x, train_y, test_size = 0.2)\n",
    "\n",
    "for hyp in list_max_ngram : \n",
    "    \n",
    "    print(\"Estimation for max_ngram = %s\" % hyp)\n",
    "    \n",
    "    pipeline = Pipeline([\n",
    "    ('count_vectorizer', CountVectorizer(stop_words = set(stopwords.words('french')), \n",
    "                                         min_df = 1,\n",
    "                                         ngram_range = (1,hyp))),\n",
    "    ('naive_bayes', naive_bayes.MultinomialNB(alpha = 1e-3))\n",
    "    ])\n",
    "\n",
    "    # Learning \n",
    "    pipeline.fit(training_x, training_y)\n",
    "\n",
    "    # predict the labels on validation dataset\n",
    "    training_pred = pipeline.predict(training_x)\n",
    "    valid_pred = pipeline.predict(valid_x)\n",
    "\n",
    "    # Accuracy\n",
    "    training_acc = 100 * accuracy_score(y_true = training_y, y_pred = training_pred)\n",
    "    valid_acc = 100 * accuracy_score(y_true = valid_y, y_pred = valid_pred)\n",
    "        \n",
    "    training_accuracy.append(training_acc)\n",
    "    valid_accuracy.append(valid_acc)\n",
    "    \n",
    "results = pd.DataFrame({'max_ngram' : list_max_ngram,\n",
    "            'training_accuracy' : np.round(training_accuracy, 2),\n",
    "            'validation_accuracy' : np.round(valid_accuracy, 2)})\n",
    "print(results)\n",
    "\n",
    "# Plotting the results\n",
    "line1, = plt.plot(list_max_ngram, training_accuracy, 'b', label=\"Training accuracy\")\n",
    "line2, = plt.plot(list_max_ngram, valid_accuracy, 'r', label=\"Validation accuracy\")\n",
    "\n",
    "plt.legend(handler_map={line1: HandlerLine2D(numpoints=2)})\n",
    "\n",
    "plt.ylabel('Accuracy')\n",
    "plt.xlabel('max_ngram')\n",
    "plt.show()    "
   ]
  },
  {
   "cell_type": "code",
   "execution_count": 17,
   "metadata": {
    "collapsed": false
   },
   "outputs": [
    {
     "name": "stdout",
     "output_type": "stream",
     "text": [
      "Estimation for min_df = 1\n",
      "Estimation for min_df = 2\n",
      "Estimation for min_df = 3\n",
      "Estimation for min_df = 4\n",
      "Estimation for min_df = 5\n",
      "Estimation for min_df = 6\n",
      "Estimation for min_df = 7\n",
      "Estimation for min_df = 8\n",
      "Estimation for min_df = 9\n",
      "Estimation for min_df = 10\n",
      "   min_df  training_accuracy  validation_accuracy\n",
      "0       1              99.49                88.60\n",
      "1       2              94.70                86.97\n",
      "2       3              92.17                86.03\n",
      "3       4              90.56                85.26\n",
      "4       5              89.36                84.62\n",
      "5       6              88.51                84.13\n",
      "6       7              87.73                83.65\n",
      "7       8              87.09                83.36\n",
      "8       9              86.66                83.14\n",
      "9      10              86.19                82.91\n"
     ]
    },
    {
     "data": {
      "image/png": "[encoded data removed]",
      "text/plain": [
       "<Figure size 432x288 with 1 Axes>"
      ]
     },
     "metadata": {},
     "output_type": "display_data"
    }
   ],
   "source": [
    "# Optimization for min_df\n",
    "training_accuracy = []\n",
    "valid_accuracy = []\n",
    "\n",
    "# Hyperparameter's range\n",
    "list_min_df = [1,2,3,4,5,6,7,8,9,10]\n",
    "\n",
    "# Training and validation sets\n",
    "training_x, valid_x, training_y, valid_y = model_selection.train_test_split(train_x, train_y, test_size = 0.2)\n",
    "\n",
    "for hyp in list_min_df : \n",
    "    \n",
    "    print(\"Estimation for min_df = %s\" % hyp)\n",
    "    \n",
    "    pipeline = Pipeline([\n",
    "    ('count_vectorizer', CountVectorizer(stop_words = set(stopwords.words('french')), \n",
    "                                         min_df = hyp,\n",
    "                                         ngram_range = (1,3))),\n",
    "    ('naive_bayes', naive_bayes.MultinomialNB(alpha = 1e-3))\n",
    "    ])\n",
    "\n",
    "    # Learning \n",
    "    pipeline.fit(training_x, training_y)\n",
    "\n",
    "    # predict the labels on validation dataset\n",
    "    training_pred = pipeline.predict(training_x)\n",
    "    valid_pred = pipeline.predict(valid_x)\n",
    "\n",
    "    # Accuracy\n",
    "    training_acc = 100 * accuracy_score(y_true = training_y, y_pred = training_pred)\n",
    "    valid_acc = 100 * accuracy_score(y_true = valid_y, y_pred = valid_pred)\n",
    "        \n",
    "    training_accuracy.append(training_acc)\n",
    "    valid_accuracy.append(valid_acc)\n",
    "    \n",
    "results = pd.DataFrame({'min_df' : list_min_df,\n",
    "            'training_accuracy' : np.round(training_accuracy, 2),\n",
    "            'validation_accuracy' : np.round(valid_accuracy, 2)})\n",
    "print(results)\n",
    "\n",
    "# Plotting the results\n",
    "line1, = plt.plot(list_min_df, training_accuracy, 'b', label=\"Training accuracy\")\n",
    "line2, = plt.plot(list_min_df, valid_accuracy, 'r', label=\"Validation accuracy\")\n",
    "\n",
    "plt.legend(handler_map={line1: HandlerLine2D(numpoints=2)})\n",
    "\n",
    "plt.ylabel('Accuracy')\n",
    "plt.xlabel('min_df')\n",
    "plt.show()    "
   ]
  },
  {
   "cell_type": "markdown",
   "metadata": {
    "collapsed": true
   },
   "source": [
    "According to these 1-dimensional analysis, one gets the following intuitions : \n",
    "- alpha : the lower, the better ; \n",
    "- n_gram : greater than 2; \n",
    "- min_df : the lower the better"
   ]
  },
  {
   "cell_type": "markdown",
   "metadata": {},
   "source": [
    "Let's use a random grid search"
   ]
  },
  {
   "cell_type": "code",
   "execution_count": 19,
   "metadata": {
    "collapsed": false
   },
   "outputs": [],
   "source": [
    "# Optimization with a random grid search\n",
    "\n",
    "# Alpha smoothing parameters\n",
    "alpha = [0, 1e-4, 1e-3]\n",
    "\n",
    "#N-grams\n",
    "ngram_range = [(1,1), (1,2), (1,3)]\n",
    "\n",
    "# Minimal number of occurences\n",
    "min_df = [1,2]\n",
    "\n",
    "# Stopwords\n",
    "#vect_stopwords = [set(stopwords.words('french')), None]\n",
    "\n",
    "# Create the random grid\n",
    "# Note : follow the notation : MODEL__PARAM ! \n",
    "random_grid = {'naive_bayes__alpha': alpha,\n",
    "               'count_vectorizer__ngram_range' : ngram_range,\n",
    "               'count_vectorizer__min_df': min_df}"
   ]
  },
  {
   "cell_type": "code",
   "execution_count": 20,
   "metadata": {
    "collapsed": false
   },
   "outputs": [
    {
     "name": "stdout",
     "output_type": "stream",
     "text": [
      "Fitting 5 folds for each of 12 candidates, totalling 60 fits\n"
     ]
    },
    {
     "name": "stderr",
     "output_type": "stream",
     "text": [
      "[Parallel(n_jobs=-1)]: Done  33 tasks      | elapsed:  1.9min\n",
      "[Parallel(n_jobs=-1)]: Done  60 out of  60 | elapsed:  2.9min finished\n"
     ]
    },
    {
     "name": "stdout",
     "output_type": "stream",
     "text": [
      "{'count_vectorizer__min_df': 1, 'naive_bayes__alpha': 0.001, 'count_vectorizer__ngram_range': (1, 3)}\n",
      "Accuracy of the best naive bayes model : 88.87%\n"
     ]
    }
   ],
   "source": [
    "# Use the random grid to search for best hyperparameters\n",
    "\n",
    "# Firstly, let's create a pipeline which will contains all hyper-parameters\n",
    "pipeline_to_optimize = Pipeline([\n",
    "    ('count_vectorizer', CountVectorizer(stop_words = set(stopwords.words('french')))),\n",
    "    ('naive_bayes', naive_bayes.MultinomialNB())\n",
    "    ])\n",
    "\n",
    "# All parameters to tune =)\n",
    "# pipeline_to_optimize.get_params().keys()\n",
    "\n",
    "# Random search of parameters, using cv fold cross validation, \n",
    "# search across different combinations, and use all available cores\n",
    "random_grid_search = model_selection.RandomizedSearchCV(estimator = pipeline_to_optimize, \n",
    "                                                   param_distributions = random_grid,\n",
    "                                                   n_iter = 12, cv = 5,\n",
    "                                                   verbose=2, random_state=42, n_jobs = -1)\n",
    "\n",
    "# Fit the random search model\n",
    "random_grid_search.fit(train_x, train_y)\n",
    "\n",
    "# Evaluate the best hyperparameters\n",
    "print(random_grid_search.best_params_)\n",
    "\n",
    "# Prediction\n",
    "predictions = random_grid_search.predict(test_x)\n",
    "accuracy_model = accuracy_score(y_true = test_y, y_pred = predictions)\n",
    "print('Accuracy of the best naive bayes model : %.2f%%' % (100 * accuracy_model))\n"
   ]
  },
  {
   "cell_type": "code",
   "execution_count": 21,
   "metadata": {
    "collapsed": false
   },
   "outputs": [
    {
     "data": {
      "text/html": [
       "<div>\n",
       "<style>\n",
       "    .dataframe thead tr:only-child th {\n",
       "        text-align: right;\n",
       "    }\n",
       "\n",
       "    .dataframe thead th {\n",
       "        text-align: left;\n",
       "    }\n",
       "\n",
       "    .dataframe tbody tr th {\n",
       "        vertical-align: top;\n",
       "    }\n",
       "</style>\n",
       "<table border=\"1\" class=\"dataframe\">\n",
       "  <thead>\n",
       "    <tr style=\"text-align: right;\">\n",
       "      <th></th>\n",
       "      <th>mean_fit_time</th>\n",
       "      <th>mean_score_time</th>\n",
       "      <th>mean_test_score</th>\n",
       "      <th>mean_train_score</th>\n",
       "      <th>param_count_vectorizer__min_df</th>\n",
       "      <th>param_count_vectorizer__ngram_range</th>\n",
       "      <th>param_naive_bayes__alpha</th>\n",
       "      <th>params</th>\n",
       "      <th>rank_test_score</th>\n",
       "      <th>split0_test_score</th>\n",
       "      <th>...</th>\n",
       "      <th>split2_test_score</th>\n",
       "      <th>split2_train_score</th>\n",
       "      <th>split3_test_score</th>\n",
       "      <th>split3_train_score</th>\n",
       "      <th>split4_test_score</th>\n",
       "      <th>split4_train_score</th>\n",
       "      <th>std_fit_time</th>\n",
       "      <th>std_score_time</th>\n",
       "      <th>std_test_score</th>\n",
       "      <th>std_train_score</th>\n",
       "    </tr>\n",
       "  </thead>\n",
       "  <tbody>\n",
       "    <tr>\n",
       "      <th>2</th>\n",
       "      <td>8.616261</td>\n",
       "      <td>1.138956</td>\n",
       "      <td>0.883000</td>\n",
       "      <td>0.994957</td>\n",
       "      <td>1</td>\n",
       "      <td>(1, 3)</td>\n",
       "      <td>0.001</td>\n",
       "      <td>{'count_vectorizer__min_df': 1, 'naive_bayes__...</td>\n",
       "      <td>1</td>\n",
       "      <td>0.883661</td>\n",
       "      <td>...</td>\n",
       "      <td>0.879324</td>\n",
       "      <td>0.995100</td>\n",
       "      <td>0.884596</td>\n",
       "      <td>0.994819</td>\n",
       "      <td>0.882141</td>\n",
       "      <td>0.994974</td>\n",
       "      <td>0.231200</td>\n",
       "      <td>0.115774</td>\n",
       "      <td>0.002117</td>\n",
       "      <td>0.000089</td>\n",
       "    </tr>\n",
       "    <tr>\n",
       "      <th>3</th>\n",
       "      <td>6.363316</td>\n",
       "      <td>0.938677</td>\n",
       "      <td>0.881293</td>\n",
       "      <td>0.987870</td>\n",
       "      <td>1</td>\n",
       "      <td>(1, 2)</td>\n",
       "      <td>0.001</td>\n",
       "      <td>{'count_vectorizer__min_df': 1, 'naive_bayes__...</td>\n",
       "      <td>2</td>\n",
       "      <td>0.881976</td>\n",
       "      <td>...</td>\n",
       "      <td>0.877527</td>\n",
       "      <td>0.988136</td>\n",
       "      <td>0.881957</td>\n",
       "      <td>0.987856</td>\n",
       "      <td>0.880512</td>\n",
       "      <td>0.987983</td>\n",
       "      <td>0.284565</td>\n",
       "      <td>0.077566</td>\n",
       "      <td>0.002277</td>\n",
       "      <td>0.000177</td>\n",
       "    </tr>\n",
       "    <tr>\n",
       "      <th>4</th>\n",
       "      <td>6.633501</td>\n",
       "      <td>0.973149</td>\n",
       "      <td>0.878507</td>\n",
       "      <td>0.993373</td>\n",
       "      <td>1</td>\n",
       "      <td>(1, 2)</td>\n",
       "      <td>0</td>\n",
       "      <td>{'count_vectorizer__min_df': 1, 'naive_bayes__...</td>\n",
       "      <td>3</td>\n",
       "      <td>0.878214</td>\n",
       "      <td>...</td>\n",
       "      <td>0.875056</td>\n",
       "      <td>0.993710</td>\n",
       "      <td>0.880328</td>\n",
       "      <td>0.993205</td>\n",
       "      <td>0.877479</td>\n",
       "      <td>0.993669</td>\n",
       "      <td>0.270122</td>\n",
       "      <td>0.060517</td>\n",
       "      <td>0.002239</td>\n",
       "      <td>0.000264</td>\n",
       "    </tr>\n",
       "    <tr>\n",
       "      <th>11</th>\n",
       "      <td>8.784102</td>\n",
       "      <td>1.128341</td>\n",
       "      <td>0.869151</td>\n",
       "      <td>0.946119</td>\n",
       "      <td>2</td>\n",
       "      <td>(1, 3)</td>\n",
       "      <td>0.001</td>\n",
       "      <td>{'count_vectorizer__min_df': 2, 'naive_bayes__...</td>\n",
       "      <td>4</td>\n",
       "      <td>0.869792</td>\n",
       "      <td>...</td>\n",
       "      <td>0.864555</td>\n",
       "      <td>0.946452</td>\n",
       "      <td>0.869377</td>\n",
       "      <td>0.946649</td>\n",
       "      <td>0.868547</td>\n",
       "      <td>0.945924</td>\n",
       "      <td>0.278359</td>\n",
       "      <td>0.283254</td>\n",
       "      <td>0.002854</td>\n",
       "      <td>0.000491</td>\n",
       "    </tr>\n",
       "    <tr>\n",
       "      <th>6</th>\n",
       "      <td>8.534347</td>\n",
       "      <td>1.198251</td>\n",
       "      <td>0.868185</td>\n",
       "      <td>0.949064</td>\n",
       "      <td>2</td>\n",
       "      <td>(1, 3)</td>\n",
       "      <td>0.0001</td>\n",
       "      <td>{'count_vectorizer__min_df': 2, 'naive_bayes__...</td>\n",
       "      <td>5</td>\n",
       "      <td>0.868669</td>\n",
       "      <td>...</td>\n",
       "      <td>0.864274</td>\n",
       "      <td>0.949555</td>\n",
       "      <td>0.868142</td>\n",
       "      <td>0.949682</td>\n",
       "      <td>0.866861</td>\n",
       "      <td>0.948760</td>\n",
       "      <td>0.164134</td>\n",
       "      <td>0.210741</td>\n",
       "      <td>0.002838</td>\n",
       "      <td>0.000597</td>\n",
       "    </tr>\n",
       "    <tr>\n",
       "      <th>5</th>\n",
       "      <td>6.150292</td>\n",
       "      <td>1.276677</td>\n",
       "      <td>0.867938</td>\n",
       "      <td>0.946692</td>\n",
       "      <td>2</td>\n",
       "      <td>(1, 2)</td>\n",
       "      <td>0.0001</td>\n",
       "      <td>{'count_vectorizer__min_df': 2, 'naive_bayes__...</td>\n",
       "      <td>6</td>\n",
       "      <td>0.868445</td>\n",
       "      <td>...</td>\n",
       "      <td>0.863376</td>\n",
       "      <td>0.947154</td>\n",
       "      <td>0.867692</td>\n",
       "      <td>0.947014</td>\n",
       "      <td>0.866300</td>\n",
       "      <td>0.946500</td>\n",
       "      <td>0.198166</td>\n",
       "      <td>0.422017</td>\n",
       "      <td>0.003438</td>\n",
       "      <td>0.000550</td>\n",
       "    </tr>\n",
       "    <tr>\n",
       "      <th>7</th>\n",
       "      <td>8.415181</td>\n",
       "      <td>1.070089</td>\n",
       "      <td>0.866017</td>\n",
       "      <td>0.952145</td>\n",
       "      <td>2</td>\n",
       "      <td>(1, 3)</td>\n",
       "      <td>0</td>\n",
       "      <td>{'count_vectorizer__min_df': 2, 'naive_bayes__...</td>\n",
       "      <td>7</td>\n",
       "      <td>0.866480</td>\n",
       "      <td>...</td>\n",
       "      <td>0.861916</td>\n",
       "      <td>0.952784</td>\n",
       "      <td>0.865727</td>\n",
       "      <td>0.952644</td>\n",
       "      <td>0.864558</td>\n",
       "      <td>0.951890</td>\n",
       "      <td>0.191308</td>\n",
       "      <td>0.042605</td>\n",
       "      <td>0.003108</td>\n",
       "      <td>0.000642</td>\n",
       "    </tr>\n",
       "    <tr>\n",
       "      <th>9</th>\n",
       "      <td>2.987241</td>\n",
       "      <td>0.523905</td>\n",
       "      <td>0.849664</td>\n",
       "      <td>0.921996</td>\n",
       "      <td>1</td>\n",
       "      <td>(1, 1)</td>\n",
       "      <td>0.001</td>\n",
       "      <td>{'count_vectorizer__min_df': 1, 'naive_bayes__...</td>\n",
       "      <td>8</td>\n",
       "      <td>0.850140</td>\n",
       "      <td>...</td>\n",
       "      <td>0.847540</td>\n",
       "      <td>0.923258</td>\n",
       "      <td>0.848374</td>\n",
       "      <td>0.922319</td>\n",
       "      <td>0.847649</td>\n",
       "      <td>0.921301</td>\n",
       "      <td>0.021384</td>\n",
       "      <td>0.006859</td>\n",
       "      <td>0.002645</td>\n",
       "      <td>0.000733</td>\n",
       "    </tr>\n",
       "    <tr>\n",
       "      <th>1</th>\n",
       "      <td>3.188686</td>\n",
       "      <td>0.586268</td>\n",
       "      <td>0.846373</td>\n",
       "      <td>0.923540</td>\n",
       "      <td>1</td>\n",
       "      <td>(1, 1)</td>\n",
       "      <td>0.0001</td>\n",
       "      <td>{'count_vectorizer__min_df': 1, 'naive_bayes__...</td>\n",
       "      <td>9</td>\n",
       "      <td>0.847614</td>\n",
       "      <td>...</td>\n",
       "      <td>0.844115</td>\n",
       "      <td>0.924817</td>\n",
       "      <td>0.845117</td>\n",
       "      <td>0.923821</td>\n",
       "      <td>0.843436</td>\n",
       "      <td>0.922957</td>\n",
       "      <td>0.072316</td>\n",
       "      <td>0.027558</td>\n",
       "      <td>0.002966</td>\n",
       "      <td>0.000715</td>\n",
       "    </tr>\n",
       "    <tr>\n",
       "      <th>8</th>\n",
       "      <td>3.133037</td>\n",
       "      <td>0.525313</td>\n",
       "      <td>0.846048</td>\n",
       "      <td>0.898154</td>\n",
       "      <td>2</td>\n",
       "      <td>(1, 1)</td>\n",
       "      <td>0.001</td>\n",
       "      <td>{'count_vectorizer__min_df': 2, 'naive_bayes__...</td>\n",
       "      <td>10</td>\n",
       "      <td>0.847221</td>\n",
       "      <td>...</td>\n",
       "      <td>0.842487</td>\n",
       "      <td>0.900093</td>\n",
       "      <td>0.845847</td>\n",
       "      <td>0.898522</td>\n",
       "      <td>0.843492</td>\n",
       "      <td>0.897533</td>\n",
       "      <td>0.156912</td>\n",
       "      <td>0.023871</td>\n",
       "      <td>0.003069</td>\n",
       "      <td>0.001128</td>\n",
       "    </tr>\n",
       "    <tr>\n",
       "      <th>0</th>\n",
       "      <td>3.335474</td>\n",
       "      <td>0.644817</td>\n",
       "      <td>0.842948</td>\n",
       "      <td>0.924071</td>\n",
       "      <td>1</td>\n",
       "      <td>(1, 1)</td>\n",
       "      <td>0</td>\n",
       "      <td>{'count_vectorizer__min_df': 1, 'naive_bayes__...</td>\n",
       "      <td>11</td>\n",
       "      <td>0.844245</td>\n",
       "      <td>...</td>\n",
       "      <td>0.840577</td>\n",
       "      <td>0.925294</td>\n",
       "      <td>0.842085</td>\n",
       "      <td>0.924326</td>\n",
       "      <td>0.840178</td>\n",
       "      <td>0.923617</td>\n",
       "      <td>0.457014</td>\n",
       "      <td>0.027649</td>\n",
       "      <td>0.002752</td>\n",
       "      <td>0.000687</td>\n",
       "    </tr>\n",
       "    <tr>\n",
       "      <th>10</th>\n",
       "      <td>2.946741</td>\n",
       "      <td>0.512107</td>\n",
       "      <td>0.840050</td>\n",
       "      <td>0.899241</td>\n",
       "      <td>2</td>\n",
       "      <td>(1, 1)</td>\n",
       "      <td>0</td>\n",
       "      <td>{'count_vectorizer__min_df': 2, 'naive_bayes__...</td>\n",
       "      <td>12</td>\n",
       "      <td>0.842560</td>\n",
       "      <td>...</td>\n",
       "      <td>0.836253</td>\n",
       "      <td>0.901188</td>\n",
       "      <td>0.839782</td>\n",
       "      <td>0.899575</td>\n",
       "      <td>0.836807</td>\n",
       "      <td>0.898642</td>\n",
       "      <td>0.044475</td>\n",
       "      <td>0.002938</td>\n",
       "      <td>0.003295</td>\n",
       "      <td>0.001136</td>\n",
       "    </tr>\n",
       "  </tbody>\n",
       "</table>\n",
       "<p>12 rows × 23 columns</p>\n",
       "</div>"
      ],
      "text/plain": [
       "    mean_fit_time  mean_score_time  mean_test_score  mean_train_score  \\\n",
       "2        8.616261         1.138956         0.883000          0.994957   \n",
       "3        6.363316         0.938677         0.881293          0.987870   \n",
       "4        6.633501         0.973149         0.878507          0.993373   \n",
       "11       8.784102         1.128341         0.869151          0.946119   \n",
       "6        8.534347         1.198251         0.868185          0.949064   \n",
       "5        6.150292         1.276677         0.867938          0.946692   \n",
       "7        8.415181         1.070089         0.866017          0.952145   \n",
       "9        2.987241         0.523905         0.849664          0.921996   \n",
       "1        3.188686         0.586268         0.846373          0.923540   \n",
       "8        3.133037         0.525313         0.846048          0.898154   \n",
       "0        3.335474         0.644817         0.842948          0.924071   \n",
       "10       2.946741         0.512107         0.840050          0.899241   \n",
       "\n",
       "   param_count_vectorizer__min_df param_count_vectorizer__ngram_range  \\\n",
       "2                               1                              (1, 3)   \n",
       "3                               1                              (1, 2)   \n",
       "4                               1                              (1, 2)   \n",
       "11                              2                              (1, 3)   \n",
       "6                               2                              (1, 3)   \n",
       "5                               2                              (1, 2)   \n",
       "7                               2                              (1, 3)   \n",
       "9                               1                              (1, 1)   \n",
       "1                               1                              (1, 1)   \n",
       "8                               2                              (1, 1)   \n",
       "0                               1                              (1, 1)   \n",
       "10                              2                              (1, 1)   \n",
       "\n",
       "   param_naive_bayes__alpha  \\\n",
       "2                     0.001   \n",
       "3                     0.001   \n",
       "4                         0   \n",
       "11                    0.001   \n",
       "6                    0.0001   \n",
       "5                    0.0001   \n",
       "7                         0   \n",
       "9                     0.001   \n",
       "1                    0.0001   \n",
       "8                     0.001   \n",
       "0                         0   \n",
       "10                        0   \n",
       "\n",
       "                                               params  rank_test_score  \\\n",
       "2   {'count_vectorizer__min_df': 1, 'naive_bayes__...                1   \n",
       "3   {'count_vectorizer__min_df': 1, 'naive_bayes__...                2   \n",
       "4   {'count_vectorizer__min_df': 1, 'naive_bayes__...                3   \n",
       "11  {'count_vectorizer__min_df': 2, 'naive_bayes__...                4   \n",
       "6   {'count_vectorizer__min_df': 2, 'naive_bayes__...                5   \n",
       "5   {'count_vectorizer__min_df': 2, 'naive_bayes__...                6   \n",
       "7   {'count_vectorizer__min_df': 2, 'naive_bayes__...                7   \n",
       "9   {'count_vectorizer__min_df': 1, 'naive_bayes__...                8   \n",
       "1   {'count_vectorizer__min_df': 1, 'naive_bayes__...                9   \n",
       "8   {'count_vectorizer__min_df': 2, 'naive_bayes__...               10   \n",
       "0   {'count_vectorizer__min_df': 1, 'naive_bayes__...               11   \n",
       "10  {'count_vectorizer__min_df': 2, 'naive_bayes__...               12   \n",
       "\n",
       "    split0_test_score       ...         split2_test_score  split2_train_score  \\\n",
       "2            0.883661       ...                  0.879324            0.995100   \n",
       "3            0.881976       ...                  0.877527            0.988136   \n",
       "4            0.878214       ...                  0.875056            0.993710   \n",
       "11           0.869792       ...                  0.864555            0.946452   \n",
       "6            0.868669       ...                  0.864274            0.949555   \n",
       "5            0.868445       ...                  0.863376            0.947154   \n",
       "7            0.866480       ...                  0.861916            0.952784   \n",
       "9            0.850140       ...                  0.847540            0.923258   \n",
       "1            0.847614       ...                  0.844115            0.924817   \n",
       "8            0.847221       ...                  0.842487            0.900093   \n",
       "0            0.844245       ...                  0.840577            0.925294   \n",
       "10           0.842560       ...                  0.836253            0.901188   \n",
       "\n",
       "    split3_test_score  split3_train_score  split4_test_score  \\\n",
       "2            0.884596            0.994819           0.882141   \n",
       "3            0.881957            0.987856           0.880512   \n",
       "4            0.880328            0.993205           0.877479   \n",
       "11           0.869377            0.946649           0.868547   \n",
       "6            0.868142            0.949682           0.866861   \n",
       "5            0.867692            0.947014           0.866300   \n",
       "7            0.865727            0.952644           0.864558   \n",
       "9            0.848374            0.922319           0.847649   \n",
       "1            0.845117            0.923821           0.843436   \n",
       "8            0.845847            0.898522           0.843492   \n",
       "0            0.842085            0.924326           0.840178   \n",
       "10           0.839782            0.899575           0.836807   \n",
       "\n",
       "    split4_train_score  std_fit_time  std_score_time  std_test_score  \\\n",
       "2             0.994974      0.231200        0.115774        0.002117   \n",
       "3             0.987983      0.284565        0.077566        0.002277   \n",
       "4             0.993669      0.270122        0.060517        0.002239   \n",
       "11            0.945924      0.278359        0.283254        0.002854   \n",
       "6             0.948760      0.164134        0.210741        0.002838   \n",
       "5             0.946500      0.198166        0.422017        0.003438   \n",
       "7             0.951890      0.191308        0.042605        0.003108   \n",
       "9             0.921301      0.021384        0.006859        0.002645   \n",
       "1             0.922957      0.072316        0.027558        0.002966   \n",
       "8             0.897533      0.156912        0.023871        0.003069   \n",
       "0             0.923617      0.457014        0.027649        0.002752   \n",
       "10            0.898642      0.044475        0.002938        0.003295   \n",
       "\n",
       "    std_train_score  \n",
       "2          0.000089  \n",
       "3          0.000177  \n",
       "4          0.000264  \n",
       "11         0.000491  \n",
       "6          0.000597  \n",
       "5          0.000550  \n",
       "7          0.000642  \n",
       "9          0.000733  \n",
       "1          0.000715  \n",
       "8          0.001128  \n",
       "0          0.000687  \n",
       "10         0.001136  \n",
       "\n",
       "[12 rows x 23 columns]"
      ]
     },
     "execution_count": 21,
     "metadata": {},
     "output_type": "execute_result"
    }
   ],
   "source": [
    "cv_results = pd.DataFrame(random_grid_search.cv_results_)\n",
    "cv_results.sort_values('rank_test_score')"
   ]
  },
  {
   "cell_type": "markdown",
   "metadata": {},
   "source": [
    "### TF-IDF \n",
    "TODO"
   ]
  },
  {
   "cell_type": "markdown",
   "metadata": {},
   "source": [
    "## Prediction for products out of Open Food Facts"
   ]
  },
  {
   "cell_type": "code",
   "execution_count": 24,
   "metadata": {
    "collapsed": true
   },
   "outputs": [],
   "source": [
    "def get_foodGroup(EAN, Produit_Nom = None, model_matching = pipeline, EAN_group_df = openfoodfacts_foodgroup) : \n",
    "    '''\n",
    "    -- Input --\n",
    "    EAN : EAN code, string\n",
    "    Produit_Nom : name of the product, string\n",
    "    EAN_group_df : database of OFF\n",
    "    model_matching : model which predicts a foodgroup, may be a pipeline =) \n",
    "    \n",
    "    -- Output --\n",
    "    food_group : the group of the product, string\n",
    "    '''\n",
    "    \n",
    "    # Search of the EAN in the database\n",
    "    food_group = EAN_group_df[EAN_group_df['EAN'] == EAN] #dataframe with 0 or 1 row\n",
    "    \n",
    "    # Firstly, if the EAN is in the database, it is easy\n",
    "    if food_group.shape[0] != 0 :\n",
    "        food_group = food_group.iloc[0]['foodgroup']\n",
    "    else : #there is not this EAN in the database, we have to use the name of the product\n",
    "        food_group = model_matching.predict([Produit_Nom])[0]\n",
    "        \n",
    "    return food_group\n",
    "        "
   ]
  },
  {
   "cell_type": "code",
   "execution_count": 26,
   "metadata": {
    "collapsed": false
   },
   "outputs": [
    {
     "data": {
      "text/plain": [
       "'Produits gras sucrés salés'"
      ]
     },
     "execution_count": 26,
     "metadata": {},
     "output_type": "execute_result"
    }
   ],
   "source": [
    "# If the EAN is correct\n",
    "get_foodGroup(EAN = \"3503910000087\")"
   ]
  },
  {
   "cell_type": "code",
   "execution_count": 27,
   "metadata": {
    "collapsed": false
   },
   "outputs": [
    {
     "data": {
      "text/plain": [
       "'Plats préparés'"
      ]
     },
     "execution_count": 27,
     "metadata": {},
     "output_type": "execute_result"
    }
   ],
   "source": [
    "# If the EAN is incorrect\n",
    "get_foodGroup(EAN = \"3503910000t087\", Produit_Nom = \"pizza\")"
   ]
  },
  {
   "cell_type": "code",
   "execution_count": 31,
   "metadata": {
    "collapsed": false
   },
   "outputs": [
    {
     "name": "stdout",
     "output_type": "stream",
     "text": [
      "Pipeline(memory=None,\n",
      "     steps=[('count_vectorizer', CountVectorizer(analyzer='word', binary=False, decode_error='strict',\n",
      "        dtype=<class 'numpy.int64'>, encoding='utf-8', input='content',\n",
      "        lowercase=True, max_df=1.0, max_features=None, min_df=1,\n",
      "        ngram_range=(1, 3), preprocessor=None,\n",
      "        stop_words...e, vocabulary=None)), ('naive_bayes', MultinomialNB(alpha=0.001, class_prior=None, fit_prior=True))])\n",
      "Pipeline(memory=None,\n",
      "     steps=[('count_vectorizer', CountVectorizer(analyzer='word', binary=False, decode_error='strict',\n",
      "        dtype=<class 'numpy.int64'>, encoding='utf-8', input='content',\n",
      "        lowercase=True, max_df=1.0, max_features=None, min_df=2,\n",
      "        ngram_range=(1, 2), preprocessor=None,\n",
      "        stop_words...e, vocabulary=None)), ('naive_bayes', MultinomialNB(alpha=0.001, class_prior=None, fit_prior=True))])\n"
     ]
    }
   ],
   "source": [
    "# Selected model\n",
    "print(pipeline)\n",
    "print(pipeline_light)\n",
    "\n",
    "# Save the model to disk\n",
    "filename_pipeline = '../../data/clf_names_nb.sav'\n",
    "pickle.dump(pipeline, open(filename_pipeline, 'wb'))\n",
    "\n",
    "filename_pipeline_light = '../../data/clf_names_nb_light.sav'\n",
    "pickle.dump(pipeline_light, open(filename_pipeline_light, 'wb'))"
   ]
  },
  {
   "cell_type": "code",
   "execution_count": null,
   "metadata": {
    "collapsed": true
   },
   "outputs": [],
   "source": []
  }
 ],
 "metadata": {
  "kernelspec": {
   "display_name": "Python 3",
   "language": "python",
   "name": "python3"
  },
  "language_info": {
   "codemirror_mode": {
    "name": "ipython",
    "version": 3
   },
   "file_extension": ".py",
   "mimetype": "text/x-python",
   "name": "python",
   "nbconvert_exporter": "python",
   "pygments_lexer": "ipython3",
   "version": "3.5.2"
  }
 },
 "nbformat": 4,
 "nbformat_minor": 2
}
